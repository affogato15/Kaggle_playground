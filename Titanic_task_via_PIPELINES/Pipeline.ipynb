{
 "cells": [
  {
   "cell_type": "code",
   "execution_count": 1,
   "id": "f72ca864",
   "metadata": {},
   "outputs": [],
   "source": [
    "import pandas as pd\n",
    "import numpy as np\n",
    "from sklearn.model_selection import train_test_split,cross_val_score\n",
    "from sklearn.preprocessing import LabelEncoder,OrdinalEncoder\n",
    "from sklearn.impute import SimpleImputer\n",
    "from sklearn.compose import ColumnTransformer\n",
    "from sklearn.pipeline import Pipeline\n",
    "from sklearn.metrics import accuracy_score\n",
    "from xgboost import XGBClassifier\n"
   ]
  },
  {
   "cell_type": "code",
   "execution_count": 2,
   "id": "d7cf4d96",
   "metadata": {},
   "outputs": [],
   "source": [
    "data = pd.read_csv('train.csv', index_col='PassengerId')\n",
    "data = pd.DataFrame(data)"
   ]
  },
  {
   "cell_type": "markdown",
   "id": "8a3c63af",
   "metadata": {},
   "source": [
    "SOME FEATURE ENGINEERING"
   ]
  },
  {
   "cell_type": "code",
   "execution_count": 3,
   "id": "9c542419",
   "metadata": {},
   "outputs": [],
   "source": [
    "\n",
    "data['Deck']=data['Cabin'].apply(lambda x: str(x)[0])\n",
    "data['Side']=data['Cabin'].apply(lambda x: str(x)[-1])\n",
    "data['Flight'] = data.HomePlanet+' - '+data.Destination\n",
    "data.Transported.replace([True, False],[1,0], inplace=True)\n",
    "data.dropna(axis=0, subset=['Transported'], inplace=True)\n",
    "X_full=data.drop(['Transported','Name', 'Cabin', 'Destination', 'HomePlanet'], axis=1)\n",
    "y = data.Transported.copy()"
   ]
  },
  {
   "cell_type": "markdown",
   "id": "19eb1a06",
   "metadata": {},
   "source": [
    "MODEL TRAINING VIA PIPELINES"
   ]
  },
  {
   "cell_type": "code",
   "execution_count": 4,
   "id": "542bf91a",
   "metadata": {},
   "outputs": [
    {
     "name": "stdout",
     "output_type": "stream",
     "text": [
      "n=100, l=0.04, d=6 cross_val_score 0.8006888062519071\n",
      "n=100, l=0.04, d=7 cross_val_score 0.8022707125457075\n",
      "n=100, l=0.05, d=6 cross_val_score 0.8029901370061392\n",
      "n=100, l=0.05, d=7 cross_val_score 0.8004017605469901\n",
      "n=100, l=0.060000000000000005, d=6 cross_val_score 0.8034212744829299\n",
      "n=100, l=0.060000000000000005, d=7 cross_val_score 0.8008338289828238\n",
      "n=100, l=0.07, d=6 cross_val_score 0.8038524119597206\n",
      "n=100, l=0.07, d=7 cross_val_score 0.8016965176959797\n",
      "n=110, l=0.04, d=6 cross_val_score 0.7999695886712629\n",
      "n=110, l=0.04, d=7 cross_val_score 0.8014076100729769\n",
      "n=110, l=0.05, d=6 cross_val_score 0.8025585857697738\n",
      "n=110, l=0.05, d=7 cross_val_score 0.8009768863557609\n",
      "n=110, l=0.060000000000000005, d=6 cross_val_score 0.8037089408272088\n",
      "n=110, l=0.060000000000000005, d=7 cross_val_score 0.8018404025880661\n",
      "n=110, l=0.07, d=6 cross_val_score 0.804427848088172\n",
      "n=110, l=0.07, d=7 cross_val_score 0.8014085410320199\n",
      "n=120, l=0.04, d=6 cross_val_score 0.8002572550155419\n",
      "n=120, l=0.04, d=7 cross_val_score 0.8027018500224982\n",
      "n=120, l=0.05, d=6 cross_val_score 0.802558585769774\n",
      "n=120, l=0.05, d=7 cross_val_score 0.8004019674267775\n",
      "n=120, l=0.060000000000000005, d=6 cross_val_score 0.8045721467398332\n",
      "n=120, l=0.060000000000000005, d=7 cross_val_score 0.8018404025880661\n",
      "n=120, l=0.07, d=6 cross_val_score 0.8039960899720194\n",
      "n=120, l=0.07, d=7 cross_val_score 0.8012645527000398\n",
      "n=130, l=0.04, d=6 cross_val_score 0.8022705056659202\n",
      "n=130, l=0.04, d=7 cross_val_score 0.8015513915251695\n",
      "n=130, l=0.05, d=6 cross_val_score 0.8028461486741592\n",
      "n=130, l=0.05, d=7 cross_val_score 0.8001147148420731\n",
      "n=130, l=0.060000000000000005, d=6 cross_val_score 0.8052909505609028\n",
      "n=130, l=0.060000000000000005, d=7 cross_val_score 0.8012653802191891\n",
      "n=130, l=0.07, d=6 cross_val_score 0.8041401817438931\n",
      "n=130, l=0.07, d=7 cross_val_score 0.799251508929449\n",
      "n=140, l=0.04, d=6 cross_val_score 0.8024144939979001\n",
      "n=140, l=0.04, d=7 cross_val_score 0.8021266207738339\n",
      "n=140, l=0.05, d=6 cross_val_score 0.8029900335662454\n",
      "n=140, l=0.05, d=7 cross_val_score 0.7999707265100932\n",
      "n=140, l=0.060000000000000005, d=6 cross_val_score 0.8038532394788698\n",
      "n=140, l=0.060000000000000005, d=7 cross_val_score 0.8011212884473154\n",
      "n=140, l=0.07, d=6 cross_val_score 0.8029899301263519\n",
      "n=140, l=0.07, d=7 cross_val_score 0.8004020708666711\n",
      "n=150, l=0.04, d=6 cross_val_score 0.8031338150184382\n",
      "n=150, l=0.04, d=7 cross_val_score 0.80327728615095\n",
      "n=150, l=0.05, d=6 cross_val_score 0.8039967106113816\n",
      "n=150, l=0.05, d=7 cross_val_score 0.7995395890333026\n",
      "n=150, l=0.060000000000000005, d=6 cross_val_score 0.8044283652876404\n",
      "n=150, l=0.060000000000000005, d=7 cross_val_score 0.8002580825346911\n",
      "n=150, l=0.07, d=6 cross_val_score 0.8021270345334084\n",
      "n=150, l=0.07, d=7 cross_val_score 0.8012647595798272\n"
     ]
    }
   ],
   "source": [
    "X_train, X_valid, y_train, y_valid = train_test_split(X_full, y, train_size=0.8, test_size=0.2,random_state=1)\n",
    "\n",
    "cat_cols = [col for col in X_full.columns if X_full[col].dtype == 'object']\n",
    "num_cols = [col for col in X_full.columns if X_full[col].dtype in ['float64', 'int64']]\n",
    "\n",
    "age_transformer = SimpleImputer(strategy='median')\n",
    "num_transformer = SimpleImputer(strategy='median')\n",
    "\n",
    "cat_transformer = Pipeline(steps=[('imputer', SimpleImputer(strategy='most_frequent')),\n",
    "                                          ('ordinal', OrdinalEncoder(handle_unknown='error'))\n",
    "                                         ])\n",
    "\n",
    "preprocessor = ColumnTransformer(transformers=[('age', age_transformer, ['Age']),\n",
    "                                               ('num', num_transformer, num_cols),\n",
    "                                               ('cat', cat_transformer, cat_cols),\n",
    "                                              ])\n",
    "\n",
    "# Hyperparameters optimization\n",
    "\n",
    "cv_res={}\n",
    "for n in np.arange(100,160,10):\n",
    "    for l in np.arange(0.04, 0.08, 0.01):\n",
    "        for d in np.arange(6,8,1):\n",
    "            \n",
    "            model = XGBClassifier(n_estimators=n, learning_rate = l, max_depth=d,  random_state=1)\n",
    "\n",
    "            clf = Pipeline(steps=[('preprocessor', preprocessor),\n",
    "                                  ('model', model)\n",
    "                                 ])\n",
    "\n",
    "\n",
    "            cross_val_scores = cross_val_score(clf, X_train, y_train, cv=5, scoring='accuracy')\n",
    "            print(f'n={n}, l={l}, d={d} cross_val_score', cross_val_scores.mean())\n",
    "            \n",
    "            cv_res[f'n={n}, l={l}, d={d}']=cross_val_scores.mean()\n"
   ]
  },
  {
   "cell_type": "code",
   "execution_count": 5,
   "id": "47c6ec21",
   "metadata": {},
   "outputs": [
    {
     "name": "stdout",
     "output_type": "stream",
     "text": [
      "best model for cross val n=130, l=0.060000000000000005, d=6 \n",
      " Cross_val_Score 0.8052909505609028\n"
     ]
    }
   ],
   "source": [
    "print('best model for cross val', max(cv_res, key=cv_res.get), '\\n Cross_val_Score', cv_res[max(cv_res, key=cv_res.get)])"
   ]
  },
  {
   "cell_type": "code",
   "execution_count": 6,
   "id": "325f8c44",
   "metadata": {},
   "outputs": [
    {
     "name": "stdout",
     "output_type": "stream",
     "text": [
      "n=150, l=0.07, d=7 Score 0.8039102932719954\n",
      "n=150, l=0.07, d=7 cross_val_score 0.8052909505609028\n"
     ]
    }
   ],
   "source": [
    "final_model = XGBClassifier(n_estimators=130, learning_rate = 0.06, max_depth=6,  random_state=1)\n",
    "\n",
    "clf = Pipeline(steps=[('preprocessor', preprocessor),\n",
    "                        ('model', final_model)\n",
    "                                 ])\n",
    "\n",
    "clf.fit(X_train, y_train)\n",
    "\n",
    "preds = clf.predict(X_valid)\n",
    "\n",
    "print(f'n={n}, l={l}, d={d} Score', accuracy_score(y_valid, preds))\n",
    "\n",
    "cross_val_scores = cross_val_score(clf, X_train, y_train, cv=5, scoring='accuracy')\n",
    "print(f'n={n}, l={l}, d={d} cross_val_score', cross_val_scores.mean())\n",
    "\n",
    "cv_res[f'n={n}, l={l}, d={d}']=cross_val_scores.mean()"
   ]
  },
  {
   "cell_type": "code",
   "execution_count": null,
   "id": "b42bb216",
   "metadata": {},
   "outputs": [],
   "source": []
  }
 ],
 "metadata": {
  "kernelspec": {
   "display_name": "Python 3 (ipykernel)",
   "language": "python",
   "name": "python3"
  },
  "language_info": {
   "codemirror_mode": {
    "name": "ipython",
    "version": 3
   },
   "file_extension": ".py",
   "mimetype": "text/x-python",
   "name": "python",
   "nbconvert_exporter": "python",
   "pygments_lexer": "ipython3",
   "version": "3.9.7"
  }
 },
 "nbformat": 4,
 "nbformat_minor": 5
}
