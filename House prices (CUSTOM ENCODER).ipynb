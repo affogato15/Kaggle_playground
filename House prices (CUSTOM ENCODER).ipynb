{
 "cells": [
  {
   "cell_type": "code",
   "execution_count": 1,
   "id": "fbb879f7",
   "metadata": {},
   "outputs": [],
   "source": [
    "import numpy as np \n",
    "import pandas as pd\n",
    "from sklearn.impute import SimpleImputer\n",
    "from sklearn.model_selection import train_test_split\n",
    "from sklearn.preprocessing import OrdinalEncoder, MinMaxScaler,StandardScaler\n",
    "\n",
    "from xgboost import XGBRegressor\n",
    "from sklearn.metrics import mean_absolute_error, mean_absolute_percentage_error\n",
    "from sklearn.model_selection import cross_val_score"
   ]
  },
  {
   "cell_type": "code",
   "execution_count": 2,
   "id": "69a7ce5b",
   "metadata": {},
   "outputs": [],
   "source": [
    "data = pd.read_csv('train.csv', index_col=['Id'])\n",
    "data = pd.DataFrame(data)"
   ]
  },
  {
   "cell_type": "markdown",
   "id": "a2c605e3",
   "metadata": {},
   "source": [
    "SOME FEATURE ENGINEERING TRICKS"
   ]
  },
  {
   "cell_type": "code",
   "execution_count": 3,
   "id": "059c0613",
   "metadata": {},
   "outputs": [],
   "source": [
    "data.MSSubClass = data.MSSubClass.astype(str)\n",
    "fill_not_cols = ['Alley', 'PoolQC','Fence', 'MiscFeature']\n",
    "age_cols = ['YearBuilt','YearRemodAdd','GarageYrBlt']\n",
    "drop_cols = ['BsmtFinSF2', '2ndFlrSF', 'LowQualFinSF','EnclosedPorch','3SsnPorch','ScreenPorch','PoolArea', 'MoSold']\n",
    "data['Age'] = (data.YrSold - data.YearBuilt)\n",
    "data.drop('YearBuilt', axis=1, inplace=True)\n",
    "data['AgeRenow'] = (data.YrSold - data.YearRemodAdd)\n",
    "data.drop('YearRemodAdd', axis=1, inplace=True)\n",
    "data['AgeGar'] = (data.YrSold - data.GarageYrBlt)\n",
    "data.drop('GarageYrBlt', axis=1, inplace=True)\n",
    "data['TotAge'] = data['Age']+data['AgeRenow']+data['AgeGar']\n",
    "data.drop(['Age','AgeRenow','AgeGar'], axis=1, inplace=True)\n",
    "data.reset_index(drop=True, inplace=True)\n",
    "\n",
    "X_full = data.copy()\n",
    "change_to_mean = ['TotAge','LotFrontage']\n",
    "change_to_zero = ['MasVnrArea']\n",
    "cat_change_to_none = ['Alley', 'MasVnrType','FireplaceQu','PoolQC','Fence', 'MiscFeature']\n",
    "cat_to_most_frequent = ['BsmtQual','BsmtCond','BsmtExposure','BsmtFinType1','BsmtFinType2','Electrical','GarageType','GarageFinish',\n",
    "                        'GarageQual','GarageCond']"
   ]
  },
  {
   "cell_type": "markdown",
   "id": "7692338f",
   "metadata": {},
   "source": [
    "IMPUTING"
   ]
  },
  {
   "cell_type": "code",
   "execution_count": 4,
   "id": "cfa940cf",
   "metadata": {},
   "outputs": [],
   "source": [
    "\n",
    "X_full['MasVnrArea'].fillna(0, inplace=True)\n",
    "\n",
    "col_val_mean={}\n",
    "for col in change_to_mean: \n",
    "    X_full[col].fillna(X_full[col].mean(), inplace=True)\n",
    "    col_val_mean[col]=X_full[col].mean()\n",
    "    \n",
    "for col in cat_change_to_none: \n",
    "    X_full[col].fillna('None', inplace=True)\n",
    "    \n",
    "col_val_frequent={}\n",
    "for col in cat_to_most_frequent:\n",
    "    X_full[col].fillna(X_full[col].mode()[0], inplace=True)\n",
    "    col_val_frequent[col]=X_full[col].mode()[0]\n",
    "\n",
    "cat_cols = [col for col in X_full.columns if X_full[col].dtype == 'object']\n",
    "num_cols = [col for col in X_full.columns if X_full[col].dtype in ['float64', 'int64']]"
   ]
  },
  {
   "cell_type": "markdown",
   "id": "b086d36b",
   "metadata": {},
   "source": [
    "CUSTOM ENCODER \n",
    "- it allows to encode label in accordence with average sale price(target), namely as higher mean price as higher encoding number"
   ]
  },
  {
   "cell_type": "code",
   "execution_count": 5,
   "id": "e3c1b0ca",
   "metadata": {},
   "outputs": [],
   "source": [
    "class Enc():\n",
    "    \n",
    "    def __init__(self):\n",
    "        pass\n",
    "\n",
    "    def fit_transform(self,train,train_columns):\n",
    "        self.train = train\n",
    "        self.train_columns = train_columns\n",
    "        self.dict_list=[]\n",
    "        self.new_feat_names=[]\n",
    "        \n",
    "        for col in train_columns:\n",
    "            ordering = pd.DataFrame()\n",
    "            ordering['val'] = train[col].unique()\n",
    "            ordering.index = ordering.val\n",
    "            ordering['spmean'] = train[[col, 'SalePrice']].groupby(col).mean()['SalePrice']\n",
    "            ordering = ordering.sort_values('spmean')\n",
    "            ordering['ordering'] = range(1, ordering.shape[0]+1)\n",
    "            var = ordering.columns[0]\n",
    "            locals()[var] = ordering.ordering.to_dict()\n",
    "            self.dict_list.append(locals()[var])\n",
    "            ordering = ordering['ordering'].to_dict()\n",
    "            self.new_feat_names.append(col+'_E')\n",
    "\n",
    "\n",
    "            for cat, o in ordering.items():\n",
    "                train.loc[train[col] == cat, col+'_E'] = o\n",
    "                \n",
    "    \n",
    "    def transform(self, test, test_cols):\n",
    "        self.test = test\n",
    "        self.test_cols = test_cols\n",
    "        \n",
    "        \n",
    "        for i in range(len(test_cols)):\n",
    "            for key, val in self.dict_list[i].items():\n",
    "                test.loc[test[test_cols[i]]==key, test_cols[i]+'_E'] = val\n",
    "                \n",
    "    def show_dic(self):\n",
    "        return self.dict_list"
   ]
  },
  {
   "cell_type": "code",
   "execution_count": 6,
   "id": "3da79025",
   "metadata": {},
   "outputs": [],
   "source": [
    "train_encode=Enc()\n",
    "train_encoded = train_encode.fit_transform(X_full, cat_cols)\n",
    "X_full.drop(cat_cols, axis=1, inplace=True)"
   ]
  },
  {
   "cell_type": "markdown",
   "id": "cb63c2b2",
   "metadata": {},
   "source": [
    "OUTLIERS DROPPING"
   ]
  },
  {
   "cell_type": "code",
   "execution_count": 7,
   "id": "7c4fb762",
   "metadata": {},
   "outputs": [],
   "source": [
    "X_full.drop(X_full[(X_full.LotFrontage>200)\n",
    "              | (X_full.LotArea>10**5)\n",
    "              | (X_full.MasVnrArea>1200)\n",
    "              | (X_full.BsmtFinSF1>3000)\n",
    "                | (X_full.BsmtUnfSF>4000)\n",
    "                |(X_full['1stFlrSF']>3000)\n",
    "                | (X_full.GrLivArea>4500)\n",
    "                | (X_full.GarageArea>1200)\n",
    "                | (X_full.OpenPorchSF>450)\n",
    "                | (X_full.EnclosedPorch>400)].index,axis=0, inplace=True)\n",
    "\n",
    "X_full['TotSF']=X_full['1stFlrSF']+X_full['2ndFlrSF']"
   ]
  },
  {
   "cell_type": "markdown",
   "id": "4d237f05",
   "metadata": {},
   "source": [
    "FEATURE ENGINEERING AGAIN"
   ]
  },
  {
   "cell_type": "code",
   "execution_count": 8,
   "id": "f2d8cc80",
   "metadata": {},
   "outputs": [],
   "source": [
    "X_full['2f_ind']=X_full['2ndFlrSF'].apply(lambda x: 1 if x>0 else 0)\n",
    "X_full['Garage_ind']=X_full['GarageArea'].apply(lambda x: 1 if x>0 else 0)\n",
    "X_full['WoodDeck_ind']=X_full['WoodDeckSF'].apply(lambda x: 1 if x>0 else 0)\n",
    "X_full['OpenPorch_ind']=X_full['OpenPorchSF'].apply(lambda x: 1 if x>0 else 0)\n",
    "X_full['EnclosedPorch_ind']=X_full['EnclosedPorch'].apply(lambda x: 1 if x>0 else 0)\n",
    "#X_full['3SsnPorch_ind']=X_full['3SsnPorch'].apply(lambda x: 1 if x>0 else 0)\n",
    "X_full['ScreenPorch_ind']=X_full['ScreenPorch'].apply(lambda x: 1 if x>0 else 0)\n",
    "#X_full['Pool_ind']=X_full['PoolArea'].apply(lambda x: 1 if x>0 else 0)\n",
    "X_full['MiscVal_ind']=X_full['MiscVal'].apply(lambda x: 1 if x>0 else 0)\n",
    "\n",
    "X_full.drop(['1stFlrSF','2ndFlrSF', 'LandContour_E', 'Utilities_E', 'BsmtHalfBath'], axis=1, inplace=True)"
   ]
  },
  {
   "cell_type": "markdown",
   "id": "a59d72d8",
   "metadata": {},
   "source": [
    "TRAIN/TEST SPLITTING and XGB MODEL TRAINING (with already optimal hyperparameters)"
   ]
  },
  {
   "cell_type": "code",
   "execution_count": 9,
   "id": "b6fd0410",
   "metadata": {},
   "outputs": [
    {
     "name": "stdout",
     "output_type": "stream",
     "text": [
      "error 15452.891476535468\n",
      "cross_val error 14290.04499882364\n"
     ]
    }
   ],
   "source": [
    "y=X_full.SalePrice\n",
    "X_full.drop(['SalePrice'], axis=1, inplace=True)\n",
    "X_train, X_valid, y_train, y_valid = train_test_split(X_full, y, train_size=0.8, test_size=0.2,random_state=1)\n",
    "\n",
    "model= XGBRegressor(n_estimators=350, learning_rate=0.05, random_state=1)\n",
    "\n",
    "model.fit(X_train, y_train)\n",
    "\n",
    "preds = model.predict(X_valid)\n",
    "\n",
    "mae = mean_absolute_error(y_valid, preds)\n",
    "print(\"error\", mae)\n",
    "\n",
    "\n",
    "cross_val_scores = -1*cross_val_score(model, X_train, y_train, cv=5, scoring='neg_mean_absolute_error')\n",
    "crss_val_score = cross_val_scores.mean()\n",
    "\n",
    "\n",
    "\n",
    "print( 'cross_val error', crss_val_score)"
   ]
  },
  {
   "cell_type": "markdown",
   "id": "df26ef2d",
   "metadata": {},
   "source": [
    "TEST DATA PREDICTION \n",
    "- everything is the same as for TRAIN data set excepting encoding, here we apply just \"transform\" method of Enc class, instead of \"fit_transform\"."
   ]
  },
  {
   "cell_type": "code",
   "execution_count": 10,
   "id": "081696dd",
   "metadata": {},
   "outputs": [],
   "source": [
    "test_data_raw = pd.read_csv('test.csv', index_col=['Id'])\n",
    "test_data = pd.DataFrame(test_data_raw)\n",
    "test_data.reset_index(drop=True)\n",
    "\n",
    "test_data.MSSubClass = test_data.MSSubClass.astype(str)\n",
    "fill_not_cols = ['Alley', 'PoolQC','Fence', 'MiscFeature']\n",
    "age_cols = ['YearBuilt','YearRemodAdd','GarageYrBlt']\n",
    "drop_cols = ['BsmtFinSF2', '2ndFlrSF', 'LowQualFinSF','EnclosedPorch','3SsnPorch','ScreenPorch','PoolArea', 'MoSold']\n",
    "test_data['Age'] = (test_data.YrSold - test_data.YearBuilt)\n",
    "test_data.drop('YearBuilt', axis=1, inplace=True)\n",
    "test_data['AgeRenow'] = (test_data.YrSold - test_data.YearRemodAdd)\n",
    "test_data.drop('YearRemodAdd', axis=1, inplace=True)\n",
    "test_data['AgeGar'] = (test_data.YrSold - test_data.GarageYrBlt)\n",
    "test_data.drop('GarageYrBlt', axis=1, inplace=True)\n",
    "test_data['TotAge'] = test_data['Age']+test_data['AgeRenow']+test_data['AgeGar']\n",
    "test_data.drop(['Age','AgeRenow','AgeGar'], axis=1, inplace=True)\n",
    "test_data.reset_index(drop=True, inplace=True)\n",
    "\n",
    "test_full=test_data.copy()\n",
    "\n",
    "test_full['MasVnrArea'].fillna(0, inplace=True)\n",
    "\n",
    "col_val_mean={}\n",
    "for col in change_to_mean: \n",
    "    test_full[col].fillna(test_full[col].mean(), inplace=True)\n",
    "    col_val_mean[col]=test_full[col].mean()\n",
    "    \n",
    "for col in cat_change_to_none: \n",
    "    test_full[col].fillna('None', inplace=True)\n",
    "    \n",
    "col_val_frequent={}\n",
    "for col in cat_to_most_frequent:\n",
    "    test_full[col].fillna(test_full[col].mode()[0], inplace=True)\n",
    "    col_val_frequent[col]=test_full[col].mode()[0]\n",
    "\n",
    "cat_cols = [col for col in test_full.columns if test_full[col].dtype == 'object']\n",
    "num_cols = [col for col in test_full.columns if test_full[col].dtype in ['float64', 'int64']]\n",
    "\n",
    "\n",
    "\n",
    "df = test_full.isnull().sum()\n",
    "for col in list(df[df>0].index):\n",
    "    test_full[col].fillna(test_full[col].mode()[0], inplace=True)\n",
    "    \n",
    "test_encoded = train_encode.transform(test_full, cat_cols)\n",
    "test_full.drop(cat_cols, axis=1, inplace=True) \n",
    "\n",
    "df = test_full.isnull().sum()\n",
    "for col in list(df[df>0].index):\n",
    "    test_full[col].fillna(test_full[col].mode()[0], inplace=True)\n",
    "    \n",
    "test_full['TotSF']=test_full['1stFlrSF']+test_full['2ndFlrSF']\n",
    "\n",
    "test_full['2f_ind']=test_full['2ndFlrSF'].apply(lambda x: 1 if x>0 else 0)\n",
    "test_full['Garage_ind']=test_full['GarageArea'].apply(lambda x: 1 if x>0 else 0)\n",
    "test_full['WoodDeck_ind']=test_full['WoodDeckSF'].apply(lambda x: 1 if x>0 else 0)\n",
    "test_full['OpenPorch_ind']=test_full['OpenPorchSF'].apply(lambda x: 1 if x>0 else 0)\n",
    "test_full['EnclosedPorch_ind']=test_full['EnclosedPorch'].apply(lambda x: 1 if x>0 else 0)\n",
    "#test_full['3SsnPorch_ind']=test_full['3SsnPorch'].apply(lambda x: 1 if x>0 else 0)\n",
    "test_full['ScreenPorch_ind']=test_full['ScreenPorch'].apply(lambda x: 1 if x>0 else 0)\n",
    "#test_full['Pool_ind']=test_full['PoolArea'].apply(lambda x: 1 if x>0 else 0)\n",
    "test_full['MiscVal_ind']=test_full['MiscVal'].apply(lambda x: 1 if x>0 else 0)\n",
    "\n",
    "test_full.drop(['1stFlrSF','2ndFlrSF', 'LandContour_E', 'Utilities_E', 'BsmtHalfBath'], axis=1, inplace=True)"
   ]
  },
  {
   "cell_type": "markdown",
   "id": "abb1fbf8",
   "metadata": {},
   "source": [
    "MODEL APPLYING (FORECASTING)"
   ]
  },
  {
   "cell_type": "code",
   "execution_count": 11,
   "id": "13415dda",
   "metadata": {},
   "outputs": [],
   "source": [
    "test_pred = model.predict(test_full)"
   ]
  },
  {
   "cell_type": "markdown",
   "id": "94fae406",
   "metadata": {},
   "source": [
    "PRECICTIONS EXPORT"
   ]
  },
  {
   "cell_type": "code",
   "execution_count": 12,
   "id": "a86df082",
   "metadata": {},
   "outputs": [],
   "source": [
    "sub=pd.DataFrame({'Id':test_data_raw.index,'SalePrice':test_pred})\n",
    "#sub.set_index(new_x.index, drop=True, inplace=True)\n",
    "sub.to_csv('XGB_submission.csv', index=False)"
   ]
  },
  {
   "cell_type": "code",
   "execution_count": 13,
   "id": "8cd24b3a",
   "metadata": {},
   "outputs": [
    {
     "data": {
      "text/html": [
       "<div>\n",
       "<style scoped>\n",
       "    .dataframe tbody tr th:only-of-type {\n",
       "        vertical-align: middle;\n",
       "    }\n",
       "\n",
       "    .dataframe tbody tr th {\n",
       "        vertical-align: top;\n",
       "    }\n",
       "\n",
       "    .dataframe thead th {\n",
       "        text-align: right;\n",
       "    }\n",
       "</style>\n",
       "<table border=\"1\" class=\"dataframe\">\n",
       "  <thead>\n",
       "    <tr style=\"text-align: right;\">\n",
       "      <th></th>\n",
       "      <th>Id</th>\n",
       "      <th>SalePrice</th>\n",
       "    </tr>\n",
       "  </thead>\n",
       "  <tbody>\n",
       "    <tr>\n",
       "      <th>0</th>\n",
       "      <td>1461</td>\n",
       "      <td>125210.281250</td>\n",
       "    </tr>\n",
       "    <tr>\n",
       "      <th>1</th>\n",
       "      <td>1462</td>\n",
       "      <td>161066.046875</td>\n",
       "    </tr>\n",
       "    <tr>\n",
       "      <th>2</th>\n",
       "      <td>1463</td>\n",
       "      <td>185555.156250</td>\n",
       "    </tr>\n",
       "    <tr>\n",
       "      <th>3</th>\n",
       "      <td>1464</td>\n",
       "      <td>195264.578125</td>\n",
       "    </tr>\n",
       "    <tr>\n",
       "      <th>4</th>\n",
       "      <td>1465</td>\n",
       "      <td>196461.656250</td>\n",
       "    </tr>\n",
       "    <tr>\n",
       "      <th>...</th>\n",
       "      <td>...</td>\n",
       "      <td>...</td>\n",
       "    </tr>\n",
       "    <tr>\n",
       "      <th>1454</th>\n",
       "      <td>2915</td>\n",
       "      <td>85024.906250</td>\n",
       "    </tr>\n",
       "    <tr>\n",
       "      <th>1455</th>\n",
       "      <td>2916</td>\n",
       "      <td>86633.617188</td>\n",
       "    </tr>\n",
       "    <tr>\n",
       "      <th>1456</th>\n",
       "      <td>2917</td>\n",
       "      <td>170497.515625</td>\n",
       "    </tr>\n",
       "    <tr>\n",
       "      <th>1457</th>\n",
       "      <td>2918</td>\n",
       "      <td>117955.601562</td>\n",
       "    </tr>\n",
       "    <tr>\n",
       "      <th>1458</th>\n",
       "      <td>2919</td>\n",
       "      <td>197215.515625</td>\n",
       "    </tr>\n",
       "  </tbody>\n",
       "</table>\n",
       "<p>1459 rows × 2 columns</p>\n",
       "</div>"
      ],
      "text/plain": [
       "        Id      SalePrice\n",
       "0     1461  125210.281250\n",
       "1     1462  161066.046875\n",
       "2     1463  185555.156250\n",
       "3     1464  195264.578125\n",
       "4     1465  196461.656250\n",
       "...    ...            ...\n",
       "1454  2915   85024.906250\n",
       "1455  2916   86633.617188\n",
       "1456  2917  170497.515625\n",
       "1457  2918  117955.601562\n",
       "1458  2919  197215.515625\n",
       "\n",
       "[1459 rows x 2 columns]"
      ]
     },
     "execution_count": 13,
     "metadata": {},
     "output_type": "execute_result"
    }
   ],
   "source": [
    "sub"
   ]
  }
 ],
 "metadata": {
  "kernelspec": {
   "display_name": "Python 3 (ipykernel)",
   "language": "python",
   "name": "python3"
  },
  "language_info": {
   "codemirror_mode": {
    "name": "ipython",
    "version": 3
   },
   "file_extension": ".py",
   "mimetype": "text/x-python",
   "name": "python",
   "nbconvert_exporter": "python",
   "pygments_lexer": "ipython3",
   "version": "3.9.7"
  }
 },
 "nbformat": 4,
 "nbformat_minor": 5
}
